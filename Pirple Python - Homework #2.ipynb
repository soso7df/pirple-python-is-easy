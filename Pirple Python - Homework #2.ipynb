{
 "cells": [
  {
   "cell_type": "code",
   "execution_count": null,
   "metadata": {},
   "outputs": [],
   "source": [
    "#Author: Sorabh Sodhani\n",
    "#Date: 2nd February, 2019\n",
    "#Towards: Pirple.com's Python Is Easy\n",
    "#Project: Homework #2 (Functions)\n",
    "\n",
    "#Task: Assign and Print Variables"
   ]
  },
  {
   "cell_type": "code",
   "execution_count": null,
   "metadata": {},
   "outputs": [],
   "source": [
    "#Assigning Values to Variables\n",
    "Title = \"La Vie en rose\" #the title of the track\n",
    "Artist = \"Louis Armstrong\" #the main artist of the song, sometimes also the artist of the entire album\n",
    "Album = \"None (Solo Recording)\" #the album to which the song belongs\n",
    "Genre = \"Jazz\" #the category of the song\n",
    "Length = 3.23 #length of the song in minutes.seconds\n",
    "Track_Number = 1 #position of the song in the album, relative to other songs\n",
    "Bitrate_Unit = \"kbps\" #kilobytes per second\n",
    "Bitrate_Value = \"320\" #normally a value between 128 and 320, usually higher bitrates mean better sound quality\n",
    "Recording_Year = 1950 #year in which the song or album was recorded\n"
   ]
  },
  {
   "cell_type": "code",
   "execution_count": null,
   "metadata": {},
   "outputs": [],
   "source": [
    "#Defining Functions\n",
    "def title():\n",
    "    global Title; #not necessary to define a global variable here but just a safe practice\n",
    "    return Title; #returns the 'Title'\n",
    "\n",
    "def artist():\n",
    "    global Artist; \n",
    "    return Artist; #returns the 'Artist'\n",
    "\n",
    "def length():\n",
    "    global Length; \n",
    "    return Length; #returns the 'Length'"
   ]
  },
  {
   "cell_type": "code",
   "execution_count": null,
   "metadata": {},
   "outputs": [],
   "source": [
    "#Printing Values of Variables \n",
    "print (\"Title:\" ,title())\n",
    "print (\"Artist:\" ,artist())\n",
    "print (\"Length:\" ,length(), \"m\")\n"
   ]
  },
  {
   "cell_type": "code",
   "execution_count": null,
   "metadata": {},
   "outputs": [],
   "source": [
    "#Defining a Boolean Return Function\n",
    "def isLong(): #returns True if the song is longer than 10 minutes, False otherwise\n",
    "    if (Length > 10):\n",
    "        return True\n",
    "    else:\n",
    "        return False\n",
    "    \n",
    "    "
   ]
  },
  {
   "cell_type": "code",
   "execution_count": null,
   "metadata": {},
   "outputs": [],
   "source": [
    "print(\"The song is longer than 10 minutes:\", isLong())"
   ]
  }
 ],
 "metadata": {
  "kernelspec": {
   "display_name": "Python 3",
   "language": "python",
   "name": "python3"
  },
  "language_info": {
   "codemirror_mode": {
    "name": "ipython",
    "version": 3
   },
   "file_extension": ".py",
   "mimetype": "text/x-python",
   "name": "python",
   "nbconvert_exporter": "python",
   "pygments_lexer": "ipython3",
   "version": "3.6.5"
  }
 },
 "nbformat": 4,
 "nbformat_minor": 2
}
