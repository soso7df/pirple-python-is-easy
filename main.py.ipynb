{
 "cells": [
  {
   "cell_type": "code",
   "execution_count": null,
   "metadata": {},
   "outputs": [],
   "source": [
    "\"\"\"\n",
    "Author: Sorabh Sodhani\n",
    "Date: 1st February, 2019\n",
    "Towards: Pirple.com's Python Is Easy\n",
    "Project: Homework #1 (Variables)\n",
    "\n",
    "Task: Assign and Print Variables\n",
    "\"\"\""
   ]
  },
  {
   "cell_type": "code",
   "execution_count": null,
   "metadata": {},
   "outputs": [],
   "source": [
    "#Assigning Values to Variables\n",
    "Title = \"La Vie en rose\" #the title of the track\n",
    "Artist = \"Louis Armstrong\" #the main artist of the song, sometimes also the artist of the entire album\n",
    "Album = \"None (Solo Recording)\" #the album to which the song belongs\n",
    "Genre = \"Jazz\" #the category of the song\n",
    "Length = 3.23 #length of the song in minutes.seconds\n",
    "Track_Number = 1 #position of the song in the album, relative to other songs\n",
    "Bitrate_Unit = \"kbps\" #kilobytes per second\n",
    "Bitrate_Value = \"320\" #normally a value between 128 and 320, usually higher bitrates mean better sound quality\n",
    "Recording_Year = 1950 #year in which the song or album was recorded\n"
   ]
  },
  {
   "cell_type": "code",
   "execution_count": null,
   "metadata": {},
   "outputs": [],
   "source": [
    "#Printing Values of Variables \n",
    "print (\"Title:\" ,Title)\n",
    "print (\"Artist:\", Artist)\n",
    "print (\"Album:\", Album)\n",
    "print (\"Recorded in:\", Recording_Year)\n",
    "print (\"Genre:\", Genre)\n",
    "print (\"Length:\", Length, \"m\")\n",
    "print (\"Track Number:\", Track_Number)\n",
    "print (\"Bitrate:\", Bitrate_Value, Bitrate_Unit)"
   ]
  },
  {
   "cell_type": "code",
   "execution_count": null,
   "metadata": {},
   "outputs": [],
   "source": []
  }
 ],
 "metadata": {
  "kernelspec": {
   "display_name": "Python 3",
   "language": "python",
   "name": "python3"
  },
  "language_info": {
   "codemirror_mode": {
    "name": "ipython",
    "version": 3
   },
   "file_extension": ".py",
   "mimetype": "text/x-python",
   "name": "python",
   "nbconvert_exporter": "python",
   "pygments_lexer": "ipython3",
   "version": "3.6.5"
  }
 },
 "nbformat": 4,
 "nbformat_minor": 2
}
